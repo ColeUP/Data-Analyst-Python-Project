{
  "nbformat": 4,
  "nbformat_minor": 0,
  "metadata": {
    "colab": {
      "provenance": [],
      "authorship_tag": "ABX9TyMC1ZFuOSm6hjwcFFyWBZ0U"
    },
    "kernelspec": {
      "name": "python3",
      "display_name": "Python 3"
    },
    "language_info": {
      "name": "python"
    }
  },
  "cells": [
    {
      "cell_type": "code",
      "execution_count": null,
      "metadata": {
        "id": "Auznp5rI3Hlg"
      },
      "outputs": [],
      "source": [
        "import pandas as pd\n",
        "import numpy as np\n",
        "import plotly.graph_objects as go\n",
        "import matplotlib as plt\n",
        "\n",
        "users = pd.read_excel('user_purchase_data.xlsx', sheet_name='user_registration')\n",
        "\n",
        "mobile = pd.read_excel('user_purchase_data.xlsx', sheet_name='mobile_orders')\n"
      ]
    },
    {
      "cell_type": "code",
      "source": [
        "users['is_subscriber'].value_counts(dropna=False, normalize=True).plot(kind='bar')"
      ],
      "metadata": {
        "id": "582ADPYconqx"
      },
      "execution_count": null,
      "outputs": []
    },
    {
      "cell_type": "code",
      "source": [
        "mobile['mobile_orders'].plot(kind='hist', bins=130, range=[0,50])"
      ],
      "metadata": {
        "id": "S4aeL0FuoNMY"
      },
      "execution_count": null,
      "outputs": []
    },
    {
      "cell_type": "code",
      "source": [
        "mobile.loc[~mobile['user_id'].isin(users['userID']), 'user_id'].tolist()"
      ],
      "metadata": {
        "id": "t4wQDixFozon"
      },
      "execution_count": null,
      "outputs": []
    },
    {
      "cell_type": "markdown",
      "source": [
        "In-store orders table"
      ],
      "metadata": {
        "id": "Z8C-AAIApOQu"
      }
    },
    {
      "cell_type": "code",
      "source": [
        "in_store = pd.read_excel('user_purchase_data.xlsx', sheet_name='in_store_orders')\n",
        "in_store.sample(15)"
      ],
      "metadata": {
        "id": "ZBE_G6R9pR_l"
      },
      "execution_count": null,
      "outputs": []
    },
    {
      "cell_type": "code",
      "source": [
        "in_store.dtypes"
      ],
      "metadata": {
        "id": "9aSWBSJ8peW7"
      },
      "execution_count": null,
      "outputs": []
    },
    {
      "cell_type": "code",
      "source": [
        "in_store['in_store_orders'].plot(kind='hist', bins = 130, range=[0,200])"
      ],
      "metadata": {
        "id": "r7Z4JE2npznT"
      },
      "execution_count": null,
      "outputs": []
    },
    {
      "cell_type": "code",
      "source": [
        "len(in_store.loc[~in_store['user_id'].isin(users['userID']), 'user_id'].tolist())"
      ],
      "metadata": {
        "id": "bzgPihLhqEvG"
      },
      "execution_count": null,
      "outputs": []
    },
    {
      "cell_type": "markdown",
      "source": [
        "Data Frame Manipulation"
      ],
      "metadata": {
        "id": "47go8oGJqRm_"
      }
    },
    {
      "cell_type": "code",
      "source": [
        "users.rename(columns={'userID':'user_id'}, inplace=True)"
      ],
      "metadata": {
        "id": "kySTXA1OqUDL"
      },
      "execution_count": null,
      "outputs": []
    },
    {
      "cell_type": "code",
      "source": [
        "users['user_category'] = ['Premium' if i=='Yes' else 'Free' for i in users['is_subscriber'].values]\n",
        "users.drop(columns='is_subscriber', inplace=True)"
      ],
      "metadata": {
        "id": "r62WxCPwqVGs"
      },
      "execution_count": null,
      "outputs": []
    },
    {
      "cell_type": "code",
      "source": [
        "orders = pd.merge(users, mobile, how='left', on='user_id').merge(in_store, how='left', on='user_id')"
      ],
      "metadata": {
        "id": "11iq6uByqvhy"
      },
      "execution_count": null,
      "outputs": []
    },
    {
      "cell_type": "code",
      "source": [
        "orders.isna().sum()"
      ],
      "metadata": {
        "id": "SGEPP84srWZo"
      },
      "execution_count": null,
      "outputs": []
    },
    {
      "cell_type": "code",
      "source": [
        "for col in orders.columns[2:]:\n",
        "  orders[col] = orders[col].fillna(0)\n",
        "orders.head()"
      ],
      "metadata": {
        "id": "84mlULURre8P"
      },
      "execution_count": null,
      "outputs": []
    },
    {
      "cell_type": "code",
      "source": [
        "orders['total_orders'] = orders['mobile_orders'] + orders['in_store_orders']\n",
        "orders['total_orders'] = orders['total_orders'].astype(int)\n",
        "orders"
      ],
      "metadata": {
        "id": "QQTq6dzPrrjf"
      },
      "execution_count": null,
      "outputs": []
    },
    {
      "cell_type": "code",
      "source": [
        "orders.drop(columns=['mobile_orders', 'in_store_orders'], inplace=True)"
      ],
      "metadata": {
        "id": "AFlnTWgdsF_T"
      },
      "execution_count": null,
      "outputs": []
    },
    {
      "cell_type": "code",
      "source": [
        "orders.total_orders.describe()"
      ],
      "metadata": {
        "id": "zU70l7o9sW2A"
      },
      "execution_count": null,
      "outputs": []
    },
    {
      "cell_type": "code",
      "source": [
        "free='Free'\n",
        "min_orders=50\n",
        "\n",
        "100*orders[(orders['user_category']==free) & (orders['total_orders']>=min_orders)].shape[0]/(orders['user_category']==free).sum()"
      ],
      "metadata": {
        "id": "CLWGZKDnsXPM"
      },
      "execution_count": null,
      "outputs": []
    },
    {
      "cell_type": "code",
      "source": [
        "order_bins = [0,1,2,3,4,5,6,7,8,10,12,15,20,25,30,35,40,45,50,55,60,70,80,90,100,120,140,160,180,200,250,300,350,400,450,500,550,600,700,800,900,1000,1100]\n",
        "len(order_bins)"
      ],
      "metadata": {
        "id": "v4AL6qDjvnoc"
      },
      "execution_count": null,
      "outputs": []
    },
    {
      "cell_type": "code",
      "source": [
        "for order_bin in order_bins:\n",
        "  orders['orders >= '+str(order_bin)] = [1 if i>=order_bin else 0 for i in orders['total_orders'].values]\n",
        "\n",
        "orders"
      ],
      "metadata": {
        "id": "ROeg_iX6v-Td"
      },
      "execution_count": null,
      "outputs": []
    },
    {
      "cell_type": "code",
      "source": [
        "pd.set_option('display.max_columns', None)\n",
        "orders.head(10)"
      ],
      "metadata": {
        "id": "qkiWEi3owme7"
      },
      "execution_count": null,
      "outputs": []
    },
    {
      "cell_type": "code",
      "source": [
        "totals = orders.drop(columns=['user_id', 'total_orders'])\n",
        "totals.head()"
      ],
      "metadata": {
        "id": "RN7pca1sw8xy"
      },
      "execution_count": null,
      "outputs": []
    },
    {
      "cell_type": "code",
      "source": [
        "totals.columns[1:]"
      ],
      "metadata": {
        "id": "9fEnFwmpxQCo"
      },
      "execution_count": null,
      "outputs": []
    },
    {
      "cell_type": "code",
      "source": [
        "totals = totals.groupby('user_category')[totals.columns[1:]].sum().reset_index()"
      ],
      "metadata": {
        "id": "vOFUYhfbxLMM"
      },
      "execution_count": null,
      "outputs": []
    },
    {
      "cell_type": "code",
      "source": [
        "totals"
      ],
      "metadata": {
        "id": "G7h37xmbxdQz"
      },
      "execution_count": null,
      "outputs": []
    },
    {
      "cell_type": "code",
      "source": [
        "graph_df = pd.melt(totals,id_vars='user_category', value_vars=totals.columns[1:], var_name='orders_bin', value_name='registered_users')"
      ],
      "metadata": {
        "id": "0kYwxOojxpan"
      },
      "execution_count": null,
      "outputs": []
    },
    {
      "cell_type": "code",
      "source": [
        "graph_df['min_orders'] = [int(i.split('>= ')[1]) for i in graph_df['orders_bin'].values]\n",
        "graph_df.drop(columns='orders_bin', inplace=True)\n",
        "graph_df"
      ],
      "metadata": {
        "id": "5rheT_glyyOW"
      },
      "execution_count": null,
      "outputs": []
    },
    {
      "cell_type": "code",
      "source": [
        "baseline = 1\n",
        "graph_df['category_totals'] =\\\n",
        "[graph_df.loc[(graph_df['user_category']==i) & (graph_df['min_orders']==baseline), 'registered_users'].max() for i in graph_df['user_category']]"
      ],
      "metadata": {
        "id": "v8zyy3WgyLN2"
      },
      "execution_count": null,
      "outputs": []
    },
    {
      "cell_type": "code",
      "source": [
        "graph_df['%_registered_users'] = graph_df['registered_users']/graph_df['category_totals']"
      ],
      "metadata": {
        "id": "JB9M2uyQ1Fo2"
      },
      "execution_count": null,
      "outputs": []
    },
    {
      "cell_type": "code",
      "source": [
        "graph_df = graph_df.drop(columns=['registered_users', 'category_totals'])"
      ],
      "metadata": {
        "id": "E7DN1IXF1WXv"
      },
      "execution_count": null,
      "outputs": []
    },
    {
      "cell_type": "markdown",
      "source": [
        "Data Visuilzation"
      ],
      "metadata": {
        "id": "_xCUGu_FvfUN"
      }
    },
    {
      "cell_type": "code",
      "source": [
        "fig = go.Figure()\n",
        "for i in graph_df['user_category'].unique():\n",
        "  fig.add_trace(go.Scatter(x=graph_df.loc[graph_df['user_category'] ==i, 'min_orders'],\n",
        "                          y=graph_df.loc[graph_df['user_category'] ==i, '%_registered_users'],\n",
        "                          name = i+' Users',hovertemplate='<b>%{y:.2%}</b>'))\n",
        "\n",
        "\n",
        "fig.update_traces(mode='markers+lines')\n",
        "fig.update_layout(hovermode='x unified', xaxis_title='Minimum Total Orders',\n",
        "                  yaxis={'title':'% of registered users who ordered ' + str(baseline)+'+ times', 'tickformat':',.0%'},\n",
        "                  title={'text':'Retention Curve for Free vs. Premium Users', 'y':0.85,'x':0.47, 'xanchor':'center', 'yanchor':'middle'})\n",
        "\n",
        "fig.update_xaxes(range=[baseline, 500])\n",
        "fig.update_yaxes(range=[-0.01, 1.01])\n",
        "\n",
        "fig.write_html('C:\\\\Users\\\\Cole\\\\Desktop\\\\customer_retention_curve.html')\n",
        "\n",
        "fig.show()"
      ],
      "metadata": {
        "id": "Z1r0u8OTvhm4"
      },
      "execution_count": null,
      "outputs": []
    }
  ]
}